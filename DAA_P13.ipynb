{
  "nbformat": 4,
  "nbformat_minor": 0,
  "metadata": {
    "colab": {
      "provenance": []
    },
    "kernelspec": {
      "name": "python3",
      "display_name": "Python 3"
    },
    "language_info": {
      "name": "python"
    }
  },
  "cells": [
    {
      "cell_type": "code",
      "execution_count": 1,
      "metadata": {
        "id": "3B2pkSUf_RYx"
      },
      "outputs": [],
      "source": [
        "def bfs(graph,start):\n",
        "  visited = []\n",
        "  queue = [start]\n",
        "\n",
        "  while queue:\n",
        "      node = queue.pop(0)\n",
        "      if node not in visited:\n",
        "          visited.append(node)\n",
        "          neighbours  = graph[node]\n",
        "          for neighbour in neighbours:\n",
        "              queue.append(neighbour)\n",
        "  return visited"
      ]
    },
    {
      "cell_type": "code",
      "source": [
        "graph = { 'Amin' : {'Wasim','Nick','Mike'},\n",
        "          'Wasim' : {'Imran','Amin'},\n",
        "          'Imran' : {'Wasim','Faras'},\n",
        "          'Faras' : {'Imran'},\n",
        "          'Mike' : {'Amin'},\n",
        "          'Nick' : {'Amin'}}"
      ],
      "metadata": {
        "id": "8CRL6d3iACo9"
      },
      "execution_count": 2,
      "outputs": []
    },
    {
      "cell_type": "code",
      "source": [
        "bfs(graph, 'Amin')"
      ],
      "metadata": {
        "colab": {
          "base_uri": "https://localhost:8080/"
        },
        "id": "slAhEjCGAqPG",
        "outputId": "4e8d81f4-82b9-4815-99b6-08ee19831fd8"
      },
      "execution_count": 3,
      "outputs": [
        {
          "output_type": "execute_result",
          "data": {
            "text/plain": [
              "['Amin', 'Nick', 'Wasim', 'Mike', 'Imran', 'Faras']"
            ]
          },
          "metadata": {},
          "execution_count": 3
        }
      ]
    },
    {
      "cell_type": "code",
      "source": [
        "bfs(graph, 'Amin')"
      ],
      "metadata": {
        "colab": {
          "base_uri": "https://localhost:8080/"
        },
        "id": "RtvloWnFAw5t",
        "outputId": "fff818c7-352b-4f06-b0cc-69533e4f8be9"
      },
      "execution_count": 4,
      "outputs": [
        {
          "output_type": "execute_result",
          "data": {
            "text/plain": [
              "['Amin', 'Nick', 'Wasim', 'Mike', 'Imran', 'Faras']"
            ]
          },
          "metadata": {},
          "execution_count": 4
        }
      ]
    },
    {
      "cell_type": "code",
      "source": [
        "bfs(graph,'Wasim')"
      ],
      "metadata": {
        "colab": {
          "base_uri": "https://localhost:8080/"
        },
        "id": "u_KOjiLCDJVn",
        "outputId": "bcbb74c2-e777-4343-8b98-71211ec87f16"
      },
      "execution_count": 5,
      "outputs": [
        {
          "output_type": "execute_result",
          "data": {
            "text/plain": [
              "['Wasim', 'Imran', 'Amin', 'Faras', 'Nick', 'Mike']"
            ]
          },
          "metadata": {},
          "execution_count": 5
        }
      ]
    },
    {
      "cell_type": "code",
      "source": [
        "bfs(graph, 'Faras')"
      ],
      "metadata": {
        "colab": {
          "base_uri": "https://localhost:8080/"
        },
        "id": "i9f73or1D3hp",
        "outputId": "43526627-4ccb-4624-f2b4-4020c3137cd5"
      },
      "execution_count": 6,
      "outputs": [
        {
          "output_type": "execute_result",
          "data": {
            "text/plain": [
              "['Faras', 'Imran', 'Wasim', 'Amin', 'Nick', 'Mike']"
            ]
          },
          "metadata": {},
          "execution_count": 6
        }
      ]
    },
    {
      "cell_type": "code",
      "source": [
        "graph={ 'Rektor' : {'Warek 1', 'Warek 2'},\n",
        "        'Warek 1' : {'Rektor'},\n",
        "        'Warek 2' : {'Kaprodi 1', 'Kaprodi 2', 'Kaprodi 3'},\n",
        "        'Kaprodi 1' : {'Dosen A', 'Dosen B', 'Dosen C'},\n",
        "        'Kaprodi 2' : {'Dosen D', 'Dosen E'},\n",
        "        'Kaprodi 3' : {'Dosen F', 'Dosen G'},\n",
        "        'Dosen A' : {'Kaprodi 1', 'Dosen B'},\n",
        "        'Dosen B' : {'Dosen A', 'Dosen C'},\n",
        "        'Dosen C' : {'Dosen B'},\n",
        "        'Dosen D' : {'Kaprodi 2', 'Dosen E'},\n",
        "        'Dosen E' : {'Dosen D'},\n",
        "        'Dosen F' : {'Kaprodi 3', 'Dosen F'},\n",
        "        'Dosen G' : {'Dosen F'}}"
      ],
      "metadata": {
        "id": "Vf3mMCIKERgx"
      },
      "execution_count": 7,
      "outputs": []
    },
    {
      "cell_type": "code",
      "source": [
        "bfs(graph, 'Rektor')"
      ],
      "metadata": {
        "colab": {
          "base_uri": "https://localhost:8080/"
        },
        "id": "ajwbUfGxQbln",
        "outputId": "348f8482-9407-4093-a0a5-c3526c565f5b"
      },
      "execution_count": 8,
      "outputs": [
        {
          "output_type": "execute_result",
          "data": {
            "text/plain": [
              "['Rektor',\n",
              " 'Warek 2',\n",
              " 'Warek 1',\n",
              " 'Kaprodi 1',\n",
              " 'Kaprodi 2',\n",
              " 'Kaprodi 3',\n",
              " 'Dosen B',\n",
              " 'Dosen A',\n",
              " 'Dosen C',\n",
              " 'Dosen D',\n",
              " 'Dosen E',\n",
              " 'Dosen F',\n",
              " 'Dosen G']"
            ]
          },
          "metadata": {},
          "execution_count": 8
        }
      ]
    },
    {
      "cell_type": "code",
      "source": [
        "def dfs(graph, start, visited=None):\n",
        "    if visited is None:\n",
        "        visited = set()\n",
        "    visited.add(start)\n",
        "    print(start)\n",
        "    for next in graph[start] - visited:\n",
        "         dfs(graph, next, visited)\n",
        "    return visited"
      ],
      "metadata": {
        "id": "Zu6ZxqvzRY6p"
      },
      "execution_count": 9,
      "outputs": []
    },
    {
      "cell_type": "code",
      "source": [
        "graph = { 'Amin' : {'Wasim','Nick','Mike'},\n",
        "          'Wasim' : {'Imran','Amin'},\n",
        "          'Imran' : {'Wasim','Faras'},\n",
        "          'Faras' : {'Imran'},\n",
        "          'Mike' : {'Amin'},\n",
        "          'Nick' : {'Amin'}}"
      ],
      "metadata": {
        "id": "I-4KWWysSalI"
      },
      "execution_count": 10,
      "outputs": []
    },
    {
      "cell_type": "code",
      "source": [
        "dfs(graph, 'Amin')"
      ],
      "metadata": {
        "colab": {
          "base_uri": "https://localhost:8080/"
        },
        "id": "DYQxXlJAS09u",
        "outputId": "b6d027f8-771c-4ffb-fb5e-882c64665d06"
      },
      "execution_count": 11,
      "outputs": [
        {
          "output_type": "stream",
          "name": "stdout",
          "text": [
            "Amin\n",
            "Nick\n",
            "Wasim\n",
            "Imran\n",
            "Faras\n",
            "Mike\n"
          ]
        },
        {
          "output_type": "execute_result",
          "data": {
            "text/plain": [
              "{'Amin', 'Faras', 'Imran', 'Mike', 'Nick', 'Wasim'}"
            ]
          },
          "metadata": {},
          "execution_count": 11
        }
      ]
    },
    {
      "cell_type": "code",
      "source": [
        "dfs(graph, 'Wasim')"
      ],
      "metadata": {
        "colab": {
          "base_uri": "https://localhost:8080/"
        },
        "id": "cYS-O0YfS5-a",
        "outputId": "4fcf910a-32eb-45cc-c209-cd362758bec3"
      },
      "execution_count": 12,
      "outputs": [
        {
          "output_type": "stream",
          "name": "stdout",
          "text": [
            "Wasim\n",
            "Imran\n",
            "Faras\n",
            "Amin\n",
            "Nick\n",
            "Mike\n"
          ]
        },
        {
          "output_type": "execute_result",
          "data": {
            "text/plain": [
              "{'Amin', 'Faras', 'Imran', 'Mike', 'Nick', 'Wasim'}"
            ]
          },
          "metadata": {},
          "execution_count": 12
        }
      ]
    },
    {
      "cell_type": "code",
      "source": [
        "dfs(graph, 'Faras')"
      ],
      "metadata": {
        "colab": {
          "base_uri": "https://localhost:8080/"
        },
        "id": "c23-8iErTJeg",
        "outputId": "09febc2f-eb14-4f71-dbbc-3cf23d28851a"
      },
      "execution_count": 13,
      "outputs": [
        {
          "output_type": "stream",
          "name": "stdout",
          "text": [
            "Faras\n",
            "Imran\n",
            "Wasim\n",
            "Amin\n",
            "Nick\n",
            "Mike\n"
          ]
        },
        {
          "output_type": "execute_result",
          "data": {
            "text/plain": [
              "{'Amin', 'Faras', 'Imran', 'Mike', 'Nick', 'Wasim'}"
            ]
          },
          "metadata": {},
          "execution_count": 13
        }
      ]
    },
    {
      "cell_type": "code",
      "source": [
        "dfs(graph, 'Nick')"
      ],
      "metadata": {
        "colab": {
          "base_uri": "https://localhost:8080/"
        },
        "id": "jO_lhhRHTRJG",
        "outputId": "e3569276-e46b-4eda-c780-608a5acd4373"
      },
      "execution_count": 14,
      "outputs": [
        {
          "output_type": "stream",
          "name": "stdout",
          "text": [
            "Nick\n",
            "Amin\n",
            "Mike\n",
            "Wasim\n",
            "Imran\n",
            "Faras\n"
          ]
        },
        {
          "output_type": "execute_result",
          "data": {
            "text/plain": [
              "{'Amin', 'Faras', 'Imran', 'Mike', 'Nick', 'Wasim'}"
            ]
          },
          "metadata": {},
          "execution_count": 14
        }
      ]
    },
    {
      "cell_type": "code",
      "source": [
        "graph={ 'Rektor' : {'Warek 1', 'Warek 2'},\n",
        "        'Warek 1' : {'Rektor'},\n",
        "        'Warek 2' : {'Kaprodi 1', 'Kaprodi 2', 'Kaprodi 3'},\n",
        "        'Kaprodi 1' : {'Dosen A', 'Dosen B', 'Dosen C'},\n",
        "        'Kaprodi 2' : {'Dosen D', 'Dosen E'},\n",
        "        'Kaprodi 3' : {'Dosen F', 'Dosen G'},\n",
        "        'Dosen A' : {'Kaprodi 1', 'Dosen B'},\n",
        "        'Dosen B' : {'Dosen A', 'Dosen C'},\n",
        "        'Dosen C' : {'Dosen B'},\n",
        "        'Dosen D' : {'Kaprodi 2', 'Dosen E'},\n",
        "        'Dosen E' : {'Dosen D'},\n",
        "        'Dosen F' : {'Kaprodi 3', 'Dosen F'},\n",
        "        'Dosen G' : {'Dosen F'}}"
      ],
      "metadata": {
        "id": "dF77Xt1pTXpE"
      },
      "execution_count": 15,
      "outputs": []
    },
    {
      "cell_type": "code",
      "source": [
        "dfs(graph, 'Rektor')"
      ],
      "metadata": {
        "colab": {
          "base_uri": "https://localhost:8080/"
        },
        "id": "uS1LYRjeTp2A",
        "outputId": "a5fa1181-a501-40bb-9f85-43f562a60c1c"
      },
      "execution_count": 16,
      "outputs": [
        {
          "output_type": "stream",
          "name": "stdout",
          "text": [
            "Rektor\n",
            "Warek 2\n",
            "Kaprodi 1\n",
            "Dosen B\n",
            "Dosen A\n",
            "Dosen C\n",
            "Dosen A\n",
            "Dosen C\n",
            "Kaprodi 2\n",
            "Dosen D\n",
            "Dosen E\n",
            "Dosen E\n",
            "Kaprodi 3\n",
            "Dosen F\n",
            "Dosen G\n",
            "Warek 1\n"
          ]
        },
        {
          "output_type": "execute_result",
          "data": {
            "text/plain": [
              "{'Dosen A',\n",
              " 'Dosen B',\n",
              " 'Dosen C',\n",
              " 'Dosen D',\n",
              " 'Dosen E',\n",
              " 'Dosen F',\n",
              " 'Dosen G',\n",
              " 'Kaprodi 1',\n",
              " 'Kaprodi 2',\n",
              " 'Kaprodi 3',\n",
              " 'Rektor',\n",
              " 'Warek 1',\n",
              " 'Warek 2'}"
            ]
          },
          "metadata": {},
          "execution_count": 16
        }
      ]
    }
  ]
}